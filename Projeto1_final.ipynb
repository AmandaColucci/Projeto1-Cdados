{
 "cells": [
  {
   "cell_type": "markdown",
   "metadata": {},
   "source": [
    "# Projeto 1 - Ciência dos Dados"
   ]
  },
  {
   "cell_type": "markdown",
   "metadata": {},
   "source": [
    "Nome: Amanda Colucci\n",
    "\n",
    "Nome: Sophia Braz"
   ]
  },
  {
   "cell_type": "markdown",
   "metadata": {},
   "source": [
    "___\n",
    "Carregando algumas bibliotecas:"
   ]
  },
  {
   "cell_type": "code",
   "execution_count": 82,
   "metadata": {},
   "outputs": [],
   "source": [
    "%matplotlib inline\n",
    "import pandas as pd\n",
    "import matplotlib.pyplot as plt\n",
    "import numpy as np\n",
    "import os\n",
    "import emoji      #biblioteca para a função espaço entre emoji\n",
    "import operator   #biblioteca para a função espaço entre emoji\n",
    "import functools  #biblioteca para a função espaço entre emoji\n",
    "import math\n",
    "\n",
    "\n",
    "from IPython.display import display\n",
    "pd.options.display.max_rows = 13"
   ]
  },
  {
   "cell_type": "markdown",
   "metadata": {},
   "source": [
    "**Em `filename`, coloque o nome do seu arquivo de dados!**"
   ]
  },
  {
   "cell_type": "code",
   "execution_count": 83,
   "metadata": {
    "scrolled": false
   },
   "outputs": [
    {
     "name": "stdout",
     "output_type": "stream",
     "text": [
      "Encontramos o arquivo redbull.xlsx, podemos prosseguir!\n"
     ]
    }
   ],
   "source": [
    "file = 'redbull.xlsx'\n",
    "if file in os.listdir():\n",
    "    print(f'Encontramos o arquivo {file}, podemos prosseguir!')\n",
    "else:\n",
    "    print(f'Não encontramos o arquivo {file} no diretório {os.getcwd()}!')"
   ]
  },
  {
   "cell_type": "markdown",
   "metadata": {},
   "source": [
    "Carregando a base de dados de treino com os tweets classificados como relevantes, muito relevantes, neutros, irrelevantes e muito irrelevantes:"
   ]
  },
  {
   "cell_type": "code",
   "execution_count": 84,
   "metadata": {},
   "outputs": [
    {
     "data": {
      "text/html": [
       "<div>\n",
       "<style scoped>\n",
       "    .dataframe tbody tr th:only-of-type {\n",
       "        vertical-align: middle;\n",
       "    }\n",
       "\n",
       "    .dataframe tbody tr th {\n",
       "        vertical-align: top;\n",
       "    }\n",
       "\n",
       "    .dataframe thead th {\n",
       "        text-align: right;\n",
       "    }\n",
       "</style>\n",
       "<table border=\"1\" class=\"dataframe\">\n",
       "  <thead>\n",
       "    <tr style=\"text-align: right;\">\n",
       "      <th></th>\n",
       "      <th>Tweets Treinamento</th>\n",
       "      <th>relevancia</th>\n",
       "    </tr>\n",
       "  </thead>\n",
       "  <tbody>\n",
       "    <tr>\n",
       "      <th>0</th>\n",
       "      <td>@cauecaralho @jolennu recalque de mandada🥵🥵🥵 e...</td>\n",
       "      <td>0</td>\n",
       "    </tr>\n",
       "    <tr>\n",
       "      <th>1</th>\n",
       "      <td>@tubemquerias cala te só mano ahahaha</td>\n",
       "      <td>0</td>\n",
       "    </tr>\n",
       "    <tr>\n",
       "      <th>2</th>\n",
       "      <td>quem vai ser a boa alma que vai me trazer um r...</td>\n",
       "      <td>1</td>\n",
       "    </tr>\n",
       "    <tr>\n",
       "      <th>3</th>\n",
       "      <td>rt @airamdinizx: vontade de beber um whisky, c...</td>\n",
       "      <td>2</td>\n",
       "    </tr>\n",
       "    <tr>\n",
       "      <th>4</th>\n",
       "      <td>monstrr &amp;gt;&amp;gt; redbull hahahahahahah aqui se...</td>\n",
       "      <td>3</td>\n",
       "    </tr>\n",
       "  </tbody>\n",
       "</table>\n",
       "</div>"
      ],
      "text/plain": [
       "                                  Tweets Treinamento  relevancia\n",
       "0  @cauecaralho @jolennu recalque de mandada🥵🥵🥵 e...           0\n",
       "1              @tubemquerias cala te só mano ahahaha           0\n",
       "2  quem vai ser a boa alma que vai me trazer um r...           1\n",
       "3  rt @airamdinizx: vontade de beber um whisky, c...           2\n",
       "4  monstrr &gt;&gt; redbull hahahahahahah aqui se...           3"
      ]
     },
     "execution_count": 84,
     "metadata": {},
     "output_type": "execute_result"
    }
   ],
   "source": [
    "treinamento = pd.read_excel(file)\n",
    "treinamento.head(5)"
   ]
  },
  {
   "cell_type": "markdown",
   "metadata": {},
   "source": [
    "___\n",
    "## Classificador automático de sentimento\n"
   ]
  },
  {
   "cell_type": "markdown",
   "metadata": {},
   "source": [
    " Descrição do produto escolhido e o que consideramos como relevantes, muito relevantes, neutros, irrelevantes e muito irrelevantes na classificação dos tweets:\n",
    "\n",
    " O produto escolhido foi o Redbull, uma bebida energética altamente reconhecida neste meio e vendida mundialmente.\n",
    "classificamos os tweets em cinco categorias:\n",
    "* **Muito relevantes**: classificamos os tweets que comparam o produto com os seus concorrentes, como por exemplo \"rt @hoppetem: @sonnegar eu acho q redbull tem mt gás... prefiro monster msm, mas a fan base é chata pra krl kkk\". \n",
    "* **Relevantes**: consideramos aqueles tweets que nos diziam se o cliente gostava ou desgostava do produto, como por exemplo \"@mermaiddepp redbull é bom mesmo\". \n",
    "* **Neutras**: colocamos os tweets que não acrecentavam nada sobre o produto mas que também não eram totalmente irrelevantes, como por exemplo \"redbull coco com açaí &gt;&gt;&gt;\". \n",
    "* **Irrelevantes**: admitimos os tweets que falavam do produto mas não de uma forma que seja de importancia, como por exemplo \"rt @diemannschliebe: redbull vc não me ilude mais eu já to acostumada...\". \n",
    "* **Muito Irrelevantes**: classificamos os tweets que falavam sobre o time de futebol 'Redbull' e frases sem sentido, ou seja, os tweets que usavam somente o nome do produto para representar algo que não acrescentaria nada para nossa análise, como por exemplo \"que hd esse hein @canalpremiere no jogo atletico x redbull bragantino?\"."
   ]
  },
  {
   "cell_type": "markdown",
   "metadata": {},
   "source": [
    "___\n",
    "### Montando um Classificador Naive-Bayes\n",
    "\n",
    "Considerando apenas as mensagens da planilha Treinamento, ensine  seu classificador."
   ]
  },
  {
   "cell_type": "markdown",
   "metadata": {},
   "source": [
    "Definindo as variáveis da planilha treinamento qualitativas como quantitativas:"
   ]
  },
  {
   "cell_type": "code",
   "execution_count": 85,
   "metadata": {},
   "outputs": [
    {
     "data": {
      "text/plain": [
       "Index(['muito irrelevante', 'irrelevante', 'neutro', 'relevante',\n",
       "       'muito relevante'],\n",
       "      dtype='object')"
      ]
     },
     "execution_count": 85,
     "metadata": {},
     "output_type": "execute_result"
    }
   ],
   "source": [
    "treinamento['relevancia'] = treinamento['relevancia'].astype('category')\n",
    "treinamento['relevancia'].cat.categories = ['muito irrelevante', 'irrelevante', 'neutro', 'relevante', 'muito relevante']\n",
    "treinamento['relevancia'].cat.categories"
   ]
  },
  {
   "cell_type": "code",
   "execution_count": 86,
   "metadata": {},
   "outputs": [
    {
     "name": "stdout",
     "output_type": "stream",
     "text": [
      "<class 'pandas.core.frame.DataFrame'>\n",
      "RangeIndex: 756 entries, 0 to 755\n",
      "Data columns (total 2 columns):\n",
      " #   Column              Non-Null Count  Dtype   \n",
      "---  ------              --------------  -----   \n",
      " 0   Tweets Treinamento  756 non-null    object  \n",
      " 1   relevancia          756 non-null    category\n",
      "dtypes: category(1), object(1)\n",
      "memory usage: 7.0+ KB\n"
     ]
    }
   ],
   "source": [
    "treinamento.info()"
   ]
  },
  {
   "cell_type": "code",
   "execution_count": 87,
   "metadata": {},
   "outputs": [
    {
     "data": {
      "text/plain": [
       "muito irrelevante    310\n",
       "neutro               150\n",
       "irrelevante          118\n",
       "relevante            105\n",
       "muito relevante       73\n",
       "Name: relevancia, dtype: int64"
      ]
     },
     "execution_count": 87,
     "metadata": {},
     "output_type": "execute_result"
    }
   ],
   "source": [
    "contagem_classificacao = treinamento['relevancia'].value_counts()\n",
    "contagem_classificacao"
   ]
  },
  {
   "cell_type": "code",
   "execution_count": 88,
   "metadata": {},
   "outputs": [],
   "source": [
    "treinamento['Tweets Treinamento'] = treinamento['Tweets Treinamento'].astype('str')"
   ]
  },
  {
   "cell_type": "markdown",
   "metadata": {},
   "source": [
    "## Fazendo e aplicando funções de limpeza dos tweets (tirando as pontuações e adicionando espaço entre os emojis):\n"
   ]
  },
  {
   "cell_type": "code",
   "execution_count": 89,
   "metadata": {},
   "outputs": [],
   "source": [
    "import re \n",
    "\n",
    "\n",
    "def cleanup(text):\n",
    "    \"\"\"\n",
    "        Função de limpeza muito simples que troca alguns sinais básicos por espaços\n",
    "    \"\"\"\n",
    "    #import string\n",
    "    punctuation = '[!-.:?;\"\\n\"()''\"\",_%$\\|/,<>]' # Note que os sinais [] são delimitadores de um conjunto.\n",
    "    pattern = re.compile(punctuation)\n",
    "    text_subbed = re.sub(pattern, '', text)\n",
    "    \n",
    "    filtro = filter(lambda x:x[0]!='@', text_subbed.split())\n",
    "    juncao = \" \".join(filter(lambda x:x[0]!='@', text_subbed.split()))\n",
    "    \n",
    "    return juncao\n",
    "\n",
    "\n",
    "def espaco_entre_emoji(texto):\n",
    "    linha = texto.lower()\n",
    "    linha_separa_emoji = emoji.get_emoji_regexp().split(linha)\n",
    "    linha_com_espaco = [substr.split() for substr in linha_separa_emoji]\n",
    "    separa = functools.reduce(operator.concat, linha_com_espaco)\n",
    "    espaco = ' '.join(separa)\n",
    "    return espaco\n",
    "\n",
    "\n",
    "treinamento_separado = treinamento['Tweets Treinamento'].apply(cleanup).apply(espaco_entre_emoji)\n"
   ]
  },
  {
   "cell_type": "markdown",
   "metadata": {},
   "source": [
    "Juntando todos os tweets da planilha Treinamento em um texto corrido e separando todas as palavras e as colocando em uma série:"
   ]
  },
  {
   "cell_type": "code",
   "execution_count": 90,
   "metadata": {},
   "outputs": [
    {
     "data": {
      "text/plain": [
       "0                  recalque\n",
       "1                        de\n",
       "2                   mandada\n",
       "3                         🥵\n",
       "4                         🥵\n",
       "                ...        \n",
       "13972                   asa\n",
       "13973                     🕊\n",
       "13974                     🕊\n",
       "13975                     🕊\n",
       "13976    httpstcoqkpcv3ou8c\n",
       "Length: 13977, dtype: object"
      ]
     },
     "execution_count": 90,
     "metadata": {},
     "output_type": "execute_result"
    }
   ],
   "source": [
    "treinamento_string=str()\n",
    "\n",
    "for i in treinamento_separado:\n",
    "    treinamento_string+=''+i\n",
    "\n",
    "todas_palavras=treinamento_string.split()\n",
    "\n",
    "treinamento_series=pd.Series(todas_palavras)\n",
    "treinamento_series\n",
    "#treinamento_series.drop_duplicates().shape"
   ]
  },
  {
   "cell_type": "markdown",
   "metadata": {},
   "source": [
    "**DEFININDO OS EVENTOS:**\n",
    "\n",
    " * $MR$: Muito Relevante\n",
    " * $R$: Relevante\n",
    " * $N$: Neutro\n",
    " * $MI$: Muito Irrelevante\n",
    " * $I$: Irrelevante"
   ]
  },
  {
   "cell_type": "markdown",
   "metadata": {},
   "source": [
    "**DEFININDO AS PROBABILIDADES DOS EVENTOS:**\n",
    "\n",
    " * $P(MR)$= probabilidade   do   tweet   ser   muito   relevante\n",
    " * $P(R)$= probabilidade do tweet ser relevante\n",
    " * $P(N)$= probabilidade do tweet ser neutro\n",
    " * $P(MI)$= probabilidade do tweet ser muito irrelevante\n",
    " * $P(I)$= probabilidade do tweet ser irrelevante\n"
   ]
  },
  {
   "cell_type": "markdown",
   "metadata": {},
   "source": [
    "Definindo as probabilidades de ser de cada categoria:"
   ]
  },
  {
   "cell_type": "code",
   "execution_count": 91,
   "metadata": {},
   "outputs": [
    {
     "name": "stdout",
     "output_type": "stream",
     "text": [
      "probabilidade de ser muito relevante: 0.09656084656084656\n",
      "probabilidade de ser relevante: 0.1388888888888889\n",
      "probabilidade de ser neutro: 0.1984126984126984\n",
      "probabilidade de ser muito irrelevante: 0.41005291005291006\n",
      "probabilidade de ser irrelevante: 0.15608465608465608\n"
     ]
    }
   ],
   "source": [
    "espaco_amostral = treinamento.shape[0]\n",
    "\n",
    "P_MR = contagem_classificacao['muito relevante']/espaco_amostral\n",
    "P_R = contagem_classificacao['relevante']/espaco_amostral\n",
    "P_N = contagem_classificacao['neutro']/espaco_amostral\n",
    "P_MI = contagem_classificacao['muito irrelevante']/espaco_amostral\n",
    "P_I = contagem_classificacao['irrelevante']/espaco_amostral\n",
    "\n",
    "print(f'probabilidade de ser muito relevante: {P_MR}')\n",
    "print(f'probabilidade de ser relevante: {P_R}')\n",
    "print(f'probabilidade de ser neutro: {P_N}')\n",
    "print(f'probabilidade de ser muito irrelevante: {P_MI}')\n",
    "print(f'probabilidade de ser irrelevante: {P_I}')"
   ]
  },
  {
   "cell_type": "code",
   "execution_count": 92,
   "metadata": {},
   "outputs": [
    {
     "data": {
      "text/plain": [
       "1.0"
      ]
     },
     "execution_count": 92,
     "metadata": {},
     "output_type": "execute_result"
    }
   ],
   "source": [
    "soma_prob = P_MR + P_R +P_N + P_MI + P_I\n",
    "soma_prob"
   ]
  },
  {
   "cell_type": "markdown",
   "metadata": {},
   "source": [
    "Separando os tweets de cada categoria:"
   ]
  },
  {
   "cell_type": "code",
   "execution_count": 93,
   "metadata": {},
   "outputs": [],
   "source": [
    "relevantes = treinamento[treinamento.relevancia == 'relevante']\n",
    "muito_relevantes = treinamento[treinamento.relevancia == 'muito relevante']\n",
    "neutro = treinamento[treinamento.relevancia == 'neutro']\n",
    "irrelevantes = treinamento[treinamento.relevancia == 'irrelevante']\n",
    "muito_irrelevantes = treinamento[treinamento.relevancia == 'muito irrelevante']"
   ]
  },
  {
   "cell_type": "markdown",
   "metadata": {},
   "source": [
    "**\"chutando\" valores para o smothing:**"
   ]
  },
  {
   "cell_type": "code",
   "execution_count": 94,
   "metadata": {},
   "outputs": [],
   "source": [
    "#V = numero de palavras desconhecidas que potencialmente existem\n",
    "#alpha = bonus de cada palavra na contagem\n",
    "V = 10e4\n",
    "alpha = 1"
   ]
  },
  {
   "cell_type": "markdown",
   "metadata": {},
   "source": [
    "## Fazendo o smoothing para todas as categorias:"
   ]
  },
  {
   "cell_type": "markdown",
   "metadata": {},
   "source": [
    " * `relevante`:"
   ]
  },
  {
   "cell_type": "code",
   "execution_count": 95,
   "metadata": {},
   "outputs": [
    {
     "name": "stdout",
     "output_type": "stream",
     "text": [
      "monstrr &gt;&gt; redbull hahahahahahah aqui seu otario q gosta de redbull pare imediatamente voce tem q ter um paladar igual ao meu👊🏼👊🏼🤬🤬\n",
      "olha jovens como eu bebo redbull. nada dessa bebida de plebeu chamada monster rsrsrs. prefiro estragar meus rins com bebida de gente. rsrsrs https://t.co/veb19itfqy\n",
      "@gatadafelina working on it hhaahaah\n",
      "redbull é meu pastor e nada me faltará\n",
      "rt @camilaafonso9: andou a beber redbull para ter aquela energia\n",
      "@eduzord @xixtoranger é menos enjoativo q redbull\n",
      "\n",
      "e os sabores sao em maioria gostosos\n"
     ]
    },
    {
     "data": {
      "text/plain": [
       "redbull    97\n",
       "é          40\n",
       "de         39\n",
       "e          33\n",
       "que        31\n",
       "dtype: int64"
      ]
     },
     "execution_count": 95,
     "metadata": {},
     "output_type": "execute_result"
    }
   ],
   "source": [
    "for i in relevantes['Tweets Treinamento'].head():\n",
    "    print(i)\n",
    "    \n",
    "    \n",
    "serie_relevantes = []\n",
    "for i in relevantes['Tweets Treinamento']:\n",
    "    serie_relevantes += i.split()\n",
    "frequencia_palavras_relevantes = pd.Series(serie_relevantes).value_counts()\n",
    "frequencia_palavras_relevantes.head()\n"
   ]
  },
  {
   "cell_type": "code",
   "execution_count": 96,
   "metadata": {},
   "outputs": [],
   "source": [
    "palavras_relevantes = pd.Series(serie_relevantes)\n",
    "\n",
    "contagem_relevante = palavras_relevantes.value_counts()\n",
    "\n",
    "total_relevante = contagem_relevante.sum()\n",
    "\n",
    "cont_relevante_alpha = contagem_relevante + alpha\n",
    "\n",
    "total_relevante_alpha = total_relevante + (alpha * V)\n",
    "\n",
    "P_palavra_dado_relevante = cont_relevante_alpha/ total_relevante_alpha\n"
   ]
  },
  {
   "cell_type": "markdown",
   "metadata": {},
   "source": [
    " * `muito relevante`:"
   ]
  },
  {
   "cell_type": "code",
   "execution_count": 97,
   "metadata": {},
   "outputs": [
    {
     "name": "stdout",
     "output_type": "stream",
     "text": [
      "redbull é melhor\n",
      "redbull é melhor que monster\n",
      "@sonnegar eu acho q redbull tem mt gás... prefiro monster msm, mas a fan base é chata pra krl kkkkkk\n",
      "redbull de açaí é o melhor energético\n",
      "rt @pqplorrankkk: redbull é melhor que monster! #ad\n"
     ]
    },
    {
     "data": {
      "text/plain": [
       "redbull    68\n",
       "é          45\n",
       "de         30\n",
       "eu         22\n",
       "que        21\n",
       "dtype: int64"
      ]
     },
     "execution_count": 97,
     "metadata": {},
     "output_type": "execute_result"
    }
   ],
   "source": [
    "for i in muito_relevantes['Tweets Treinamento'].head():\n",
    "    print(i)\n",
    "    \n",
    "    \n",
    "serie_muito_relevantes = []\n",
    "for i in muito_relevantes['Tweets Treinamento']:\n",
    "    serie_muito_relevantes += i.split()\n",
    "frequencia_palavras_muito_relevantes = pd.Series(serie_muito_relevantes).value_counts()\n",
    "frequencia_palavras_muito_relevantes.head()\n"
   ]
  },
  {
   "cell_type": "code",
   "execution_count": 98,
   "metadata": {},
   "outputs": [],
   "source": [
    "palavras_muito_relevantes = pd.Series(serie_muito_relevantes)\n",
    "\n",
    "contagem_muito_relevante = palavras_muito_relevantes.value_counts()\n",
    "\n",
    "total_muito_relevante = contagem_muito_relevante.sum()\n",
    "\n",
    "cont_muito_relevante_alpha = contagem_muito_relevante + alpha\n",
    "\n",
    "total_muito_relevante_alpha = total_muito_relevante + (alpha * V)\n",
    "\n",
    "P_palavra_dado_muito_relevante = cont_muito_relevante_alpha/ total_muito_relevante_alpha"
   ]
  },
  {
   "cell_type": "markdown",
   "metadata": {},
   "source": [
    " * `neutro`:"
   ]
  },
  {
   "cell_type": "code",
   "execution_count": 99,
   "metadata": {},
   "outputs": [
    {
     "name": "stdout",
     "output_type": "stream",
     "text": [
      "rt @airamdinizx: vontade de beber um whisky, c gelo de coco e um redbull bem gelado pqp\n",
      "mais uma segunda chegando ao fim\n",
      "hoje ganhei massagens das porrada que a vida dá\n",
      "pofavô divertidamente da ansiedade me ajuda a dormir antes da meia noite\n",
      "eu preciso acorda bem amanhã e pegar estrada\n",
      "já preparei as mala e o redbull tá pra gela\n",
      "a vida é curta e eu sou grossa\n",
      "mds preciso muito dessa camisa azul do santos, preciso mais do que uma da redbull\n",
      "@kaioshxn hj to bebendo redbull (com gin), mas já tentei tnt, monster, etc kkkkkk\n",
      "vou evitar beber muito redbull hoje\n"
     ]
    },
    {
     "data": {
      "text/plain": [
       "redbull    136\n",
       "e           92\n",
       "de          75\n",
       "o           62\n",
       "eu          48\n",
       "dtype: int64"
      ]
     },
     "execution_count": 99,
     "metadata": {},
     "output_type": "execute_result"
    }
   ],
   "source": [
    "for i in neutro['Tweets Treinamento'].head():\n",
    "    print(i)\n",
    "    \n",
    "    \n",
    "serie_neutro = []\n",
    "for i in neutro['Tweets Treinamento']:\n",
    "    serie_neutro += i.split()\n",
    "frequencia_palavras_neutro = pd.Series(serie_neutro).value_counts()\n",
    "frequencia_palavras_neutro.head()\n"
   ]
  },
  {
   "cell_type": "code",
   "execution_count": 100,
   "metadata": {},
   "outputs": [],
   "source": [
    "palavras_neutro = pd.Series(serie_neutro)\n",
    "\n",
    "contagem_neutro = palavras_neutro.value_counts()\n",
    "\n",
    "total_neutro = contagem_neutro.sum()\n",
    "\n",
    "cont_neutro_alpha = contagem_neutro + alpha\n",
    "\n",
    "total_neutro_alpha = total_neutro + (alpha * V)\n",
    "\n",
    "P_palavra_dado_neutro = cont_neutro_alpha/ total_neutro_alpha"
   ]
  },
  {
   "cell_type": "markdown",
   "metadata": {},
   "source": [
    " * `irrelevante`:"
   ]
  },
  {
   "cell_type": "code",
   "execution_count": 101,
   "metadata": {},
   "outputs": [
    {
     "name": "stdout",
     "output_type": "stream",
     "text": [
      "quem vai ser a boa alma que vai me trazer um redbull aqui no trampo heinn??!\n",
      "cartolouco tem redbull introduzido na veia kkk\n",
      "mlq redbull é uma praga, durmo por nada\n",
      "redbull pode ate te da asas, mas sou eu quem vou te dar amor e carinho, nenem\n",
      "teve uma vez que eu tomei redbull fui p cinema e dormi o filme inteiro???\n"
     ]
    },
    {
     "data": {
      "text/plain": [
       "redbull    103\n",
       "de          63\n",
       "que         60\n",
       "e           52\n",
       "o           42\n",
       "dtype: int64"
      ]
     },
     "execution_count": 101,
     "metadata": {},
     "output_type": "execute_result"
    }
   ],
   "source": [
    "for i in irrelevantes['Tweets Treinamento'].head():\n",
    "    print(i)\n",
    "    \n",
    "    \n",
    "serie_irrelevantes = []\n",
    "for i in irrelevantes['Tweets Treinamento']:\n",
    "    serie_irrelevantes += i.split()\n",
    "frequencia_palavras_irrelevantes = pd.Series(serie_irrelevantes).value_counts()\n",
    "frequencia_palavras_irrelevantes.head()\n"
   ]
  },
  {
   "cell_type": "code",
   "execution_count": 102,
   "metadata": {},
   "outputs": [],
   "source": [
    "palavras_irrelevantes = pd.Series(serie_irrelevantes)\n",
    "\n",
    "contagem_irrelevante = palavras_irrelevantes.value_counts()\n",
    "\n",
    "total_irrelevante = contagem_irrelevante.sum()\n",
    "\n",
    "cont_irrelevante_alpha = contagem_irrelevante + alpha\n",
    "\n",
    "total_irrelevante_alpha = total_irrelevante + (alpha * V)\n",
    "\n",
    "P_palavra_dado_irrelevante = cont_irrelevante_alpha/ total_irrelevante_alpha"
   ]
  },
  {
   "cell_type": "markdown",
   "metadata": {},
   "source": [
    " * `muito irrelevante`:"
   ]
  },
  {
   "cell_type": "code",
   "execution_count": 103,
   "metadata": {},
   "outputs": [
    {
     "name": "stdout",
     "output_type": "stream",
     "text": [
      "@cauecaralho @jolennu recalque de mandada🥵🥵🥵 eu tiro debochando 🤪🤪 aceita que eu sou foda 😎😎😎 e late que eu tô passando 🐕🗣🗣🐕 quem da moral pra merda é mosca 💩🦟🦟🦟 rala sua mandada 👺👺👺 nem redbull faz piranha 🐟🐟🐟 criar asa 🕊🕊🕊\n",
      "@tubemquerias cala te só mano ahahaha\n",
      "se o albon quiser ficar na redbull que consiga esse pódio. só depende dele. #f1naglobo\n",
      "@mortais_4 quer dizer, c n prefere redbull?*\n",
      "@sillva1eduardo @helenarosa181 @lazarini_denis @caparica se a redbull tivesse as mesmas condições da mercedes \n",
      "até o leclerc eu coloco uma esperança, mas com essa ferrari aí fica tenso\n"
     ]
    },
    {
     "data": {
      "text/plain": [
       "eu         201\n",
       "que        200\n",
       "redbull    196\n",
       "e          150\n",
       "de         150\n",
       "dtype: int64"
      ]
     },
     "execution_count": 103,
     "metadata": {},
     "output_type": "execute_result"
    }
   ],
   "source": [
    "for i in muito_irrelevantes['Tweets Treinamento'].head():\n",
    "    print(i)\n",
    "    \n",
    "    \n",
    "serie_muito_irrelevantes = []\n",
    "for i in muito_irrelevantes['Tweets Treinamento']:\n",
    "    serie_muito_irrelevantes += i.split()\n",
    "frequencia_palavras_muito_irrelevantes = pd.Series(serie_muito_irrelevantes).value_counts()\n",
    "frequencia_palavras_muito_irrelevantes.head()"
   ]
  },
  {
   "cell_type": "code",
   "execution_count": 104,
   "metadata": {},
   "outputs": [],
   "source": [
    "palavras_muito_irrelevantes = pd.Series(serie_muito_irrelevantes)\n",
    "\n",
    "contagem_muito_irrelevante = palavras_muito_irrelevantes.value_counts()\n",
    "\n",
    "total_muito_irrelevante = contagem_muito_irrelevante.sum()\n",
    "\n",
    "cont_muito_irrelevante_alpha = contagem_muito_irrelevante + alpha\n",
    "\n",
    "total_muito_irrelevante_alpha = total_muito_irrelevante + (alpha * V)\n",
    "\n",
    "P_palavra_dado_muito_irrelevante = cont_muito_irrelevante_alpha/ total_muito_irrelevante_alpha"
   ]
  },
  {
   "cell_type": "markdown",
   "metadata": {},
   "source": [
    "## Classificador - montagem e aplicação na planilha Treinamento:"
   ]
  },
  {
   "cell_type": "code",
   "execution_count": 105,
   "metadata": {},
   "outputs": [
    {
     "data": {
      "text/html": [
       "<div>\n",
       "<style scoped>\n",
       "    .dataframe tbody tr th:only-of-type {\n",
       "        vertical-align: middle;\n",
       "    }\n",
       "\n",
       "    .dataframe tbody tr th {\n",
       "        vertical-align: top;\n",
       "    }\n",
       "\n",
       "    .dataframe thead th {\n",
       "        text-align: right;\n",
       "    }\n",
       "</style>\n",
       "<table border=\"1\" class=\"dataframe\">\n",
       "  <thead>\n",
       "    <tr style=\"text-align: right;\">\n",
       "      <th></th>\n",
       "      <th>Tweets</th>\n",
       "      <th>Prob de ser relevante</th>\n",
       "      <th>Prob de ser muito relevante</th>\n",
       "      <th>Prob de ser neutro</th>\n",
       "      <th>Prob de ser irrelevante</th>\n",
       "      <th>Prob de ser muito irrelevante</th>\n",
       "      <th>classificador</th>\n",
       "    </tr>\n",
       "  </thead>\n",
       "  <tbody>\n",
       "    <tr>\n",
       "      <th>0</th>\n",
       "      <td>@cauecaralho @jolennu recalque de mandada🥵🥵🥵 e...</td>\n",
       "      <td>1.650663e-193</td>\n",
       "      <td>3.733275e-195</td>\n",
       "      <td>1.274288e-188</td>\n",
       "      <td>6.571640e-212</td>\n",
       "      <td>2.176126e-212</td>\n",
       "      <td>neutro</td>\n",
       "    </tr>\n",
       "    <tr>\n",
       "      <th>1</th>\n",
       "      <td>@tubemquerias cala te só mano ahahaha</td>\n",
       "      <td>1.150231e-29</td>\n",
       "      <td>1.281936e-30</td>\n",
       "      <td>1.537384e-29</td>\n",
       "      <td>1.379402e-31</td>\n",
       "      <td>2.695720e-31</td>\n",
       "      <td>neutro</td>\n",
       "    </tr>\n",
       "    <tr>\n",
       "      <th>2</th>\n",
       "      <td>quem vai ser a boa alma que vai me trazer um r...</td>\n",
       "      <td>8.546282e-71</td>\n",
       "      <td>5.699671e-75</td>\n",
       "      <td>6.520228e-68</td>\n",
       "      <td>1.122643e-81</td>\n",
       "      <td>1.339881e-81</td>\n",
       "      <td>neutro</td>\n",
       "    </tr>\n",
       "    <tr>\n",
       "      <th>3</th>\n",
       "      <td>rt @airamdinizx: vontade de beber um whisky, c...</td>\n",
       "      <td>8.805536e-74</td>\n",
       "      <td>1.224328e-76</td>\n",
       "      <td>2.024759e-68</td>\n",
       "      <td>1.099757e-86</td>\n",
       "      <td>1.249411e-86</td>\n",
       "      <td>neutro</td>\n",
       "    </tr>\n",
       "    <tr>\n",
       "      <th>4</th>\n",
       "      <td>monstrr &amp;gt;&amp;gt; redbull hahahahahahah aqui se...</td>\n",
       "      <td>3.222502e-96</td>\n",
       "      <td>3.153016e-102</td>\n",
       "      <td>1.999253e-98</td>\n",
       "      <td>9.921380e-112</td>\n",
       "      <td>8.808482e-112</td>\n",
       "      <td>relevante</td>\n",
       "    </tr>\n",
       "    <tr>\n",
       "      <th>5</th>\n",
       "      <td>mais uma segunda chegando ao fim\\nhoje ganhei ...</td>\n",
       "      <td>5.935946e-237</td>\n",
       "      <td>3.257942e-243</td>\n",
       "      <td>8.822270e-219</td>\n",
       "      <td>5.239377e-267</td>\n",
       "      <td>1.008590e-267</td>\n",
       "      <td>neutro</td>\n",
       "    </tr>\n",
       "    <tr>\n",
       "      <th>6</th>\n",
       "      <td>mds preciso muito dessa camisa azul do santos,...</td>\n",
       "      <td>1.162289e-66</td>\n",
       "      <td>6.099469e-69</td>\n",
       "      <td>1.138925e-61</td>\n",
       "      <td>1.146005e-76</td>\n",
       "      <td>1.436902e-76</td>\n",
       "      <td>neutro</td>\n",
       "    </tr>\n",
       "    <tr>\n",
       "      <th>7</th>\n",
       "      <td>se o albon quiser ficar na redbull que consiga...</td>\n",
       "      <td>1.200370e-67</td>\n",
       "      <td>8.086417e-70</td>\n",
       "      <td>8.183642e-66</td>\n",
       "      <td>1.146005e-76</td>\n",
       "      <td>1.436902e-76</td>\n",
       "      <td>neutro</td>\n",
       "    </tr>\n",
       "    <tr>\n",
       "      <th>8</th>\n",
       "      <td>cartolouco tem redbull introduzido na veia kkk</td>\n",
       "      <td>5.780876e-32</td>\n",
       "      <td>2.504975e-33</td>\n",
       "      <td>3.012980e-32</td>\n",
       "      <td>1.351281e-36</td>\n",
       "      <td>2.513703e-36</td>\n",
       "      <td>relevante</td>\n",
       "    </tr>\n",
       "    <tr>\n",
       "      <th>9</th>\n",
       "      <td>mlq redbull é uma praga, durmo por nada</td>\n",
       "      <td>1.818077e-35</td>\n",
       "      <td>1.370562e-36</td>\n",
       "      <td>1.111147e-34</td>\n",
       "      <td>1.323734e-41</td>\n",
       "      <td>2.343975e-41</td>\n",
       "      <td>neutro</td>\n",
       "    </tr>\n",
       "  </tbody>\n",
       "</table>\n",
       "</div>"
      ],
      "text/plain": [
       "                                              Tweets  Prob de ser relevante  \\\n",
       "0  @cauecaralho @jolennu recalque de mandada🥵🥵🥵 e...          1.650663e-193   \n",
       "1              @tubemquerias cala te só mano ahahaha           1.150231e-29   \n",
       "2  quem vai ser a boa alma que vai me trazer um r...           8.546282e-71   \n",
       "3  rt @airamdinizx: vontade de beber um whisky, c...           8.805536e-74   \n",
       "4  monstrr &gt;&gt; redbull hahahahahahah aqui se...           3.222502e-96   \n",
       "5  mais uma segunda chegando ao fim\\nhoje ganhei ...          5.935946e-237   \n",
       "6  mds preciso muito dessa camisa azul do santos,...           1.162289e-66   \n",
       "7  se o albon quiser ficar na redbull que consiga...           1.200370e-67   \n",
       "8     cartolouco tem redbull introduzido na veia kkk           5.780876e-32   \n",
       "9            mlq redbull é uma praga, durmo por nada           1.818077e-35   \n",
       "\n",
       "   Prob de ser muito relevante  Prob de ser neutro  Prob de ser irrelevante  \\\n",
       "0                3.733275e-195       1.274288e-188            6.571640e-212   \n",
       "1                 1.281936e-30        1.537384e-29             1.379402e-31   \n",
       "2                 5.699671e-75        6.520228e-68             1.122643e-81   \n",
       "3                 1.224328e-76        2.024759e-68             1.099757e-86   \n",
       "4                3.153016e-102        1.999253e-98            9.921380e-112   \n",
       "5                3.257942e-243       8.822270e-219            5.239377e-267   \n",
       "6                 6.099469e-69        1.138925e-61             1.146005e-76   \n",
       "7                 8.086417e-70        8.183642e-66             1.146005e-76   \n",
       "8                 2.504975e-33        3.012980e-32             1.351281e-36   \n",
       "9                 1.370562e-36        1.111147e-34             1.323734e-41   \n",
       "\n",
       "   Prob de ser muito irrelevante classificador  \n",
       "0                  2.176126e-212        neutro  \n",
       "1                   2.695720e-31        neutro  \n",
       "2                   1.339881e-81        neutro  \n",
       "3                   1.249411e-86        neutro  \n",
       "4                  8.808482e-112     relevante  \n",
       "5                  1.008590e-267        neutro  \n",
       "6                   1.436902e-76        neutro  \n",
       "7                   1.436902e-76        neutro  \n",
       "8                   2.513703e-36     relevante  \n",
       "9                   2.343975e-41        neutro  "
      ]
     },
     "execution_count": 105,
     "metadata": {},
     "output_type": "execute_result"
    }
   ],
   "source": [
    "dicionario = {}\n",
    "classificador = []\n",
    "\n",
    "for i in range(len(treinamento)):\n",
    "    tweet = treinamento.iloc[i,0]\n",
    "    palavras_tweet = tweet.split()\n",
    "    \n",
    "    prob_tweet_relevante = 1\n",
    "    prob_tweet_muito_relevante=1\n",
    "    prob_tweet_neutro = 1\n",
    "    prob_tweet_irrelevante = 1\n",
    "    prob_tweet_muito_irrelevante =1\n",
    "    \n",
    "    for palavra in palavras_tweet:\n",
    "\n",
    "        if palavra in serie_relevantes:\n",
    "            prob_palavra_relevante = P_palavra_dado_relevante[palavra] \n",
    "            prob_tweet_relevante *= prob_palavra_relevante\n",
    "        \n",
    "        else:\n",
    "            prob_palavra_relevante = (alpha/total_relevante_alpha)\n",
    "            prob_tweet_relevante *= prob_palavra_relevante    \n",
    "            \n",
    "            \n",
    "        if palavra in serie_muito_relevantes:\n",
    "            prob_palavra_muito_relevante = P_palavra_dado_muito_relevante[palavra] \n",
    "            prob_tweet_muito_relevante *= prob_palavra_muito_relevante\n",
    "            \n",
    "        else:\n",
    "            prob_palavra_muito_relevante = (alpha/total_muito_relevante_alpha)\n",
    "            prob_tweet_muito_relevante *= prob_palavra_muito_relevante\n",
    "            \n",
    "        \n",
    "        if palavra in serie_neutro:\n",
    "            prob_palavra_neutra = P_palavra_dado_neutro[palavra] \n",
    "            prob_tweet_neutro *= prob_palavra_neutra\n",
    "            \n",
    "        else:\n",
    "            prob_palavra_neutra = (alpha/total_neutro_alpha)\n",
    "            prob_tweet_neutro *= prob_palavra_neutra\n",
    "            \n",
    "        \n",
    "        if palavra in serie_irrelevantes:\n",
    "            prob_palavra_irrelevante = (alpha/total_irrelevante_alpha)\n",
    "            prob_tweet_irrelevante *= prob_palavra_irrelevante \n",
    "            \n",
    "        else:\n",
    "            prob_palavra_irrelevante = (alpha/total_irrelevante_alpha)\n",
    "            prob_tweet_irrelevante *= prob_palavra_irrelevante\n",
    "        \n",
    "\n",
    "        if palavra in serie_muito_irrelevantes:\n",
    "            prob_palavra_muito_irrelevante = (alpha/total_muito_irrelevante_alpha)\n",
    "            prob_tweet_muito_irrelevante *= prob_palavra_muito_irrelevante  \n",
    "            \n",
    "        else:\n",
    "            prob_palavra_muito_irrelevante = (alpha/total_muito_irrelevante_alpha)\n",
    "            prob_tweet_muito_irrelevante *= prob_palavra_muito_irrelevante\n",
    "        \n",
    "\n",
    "    # cálculo com as prioris\n",
    "    prob_tweet_relevante *= P_R\n",
    "    prob_tweet_muito_relevante *= P_MR\n",
    "    prob_tweet_neutro *= P_N\n",
    "    prob_tweet_irrelevante *= P_I\n",
    "    prob_tweet_muito_irrelevante *= P_MI\n",
    "    \n",
    "    if prob_tweet_relevante > prob_tweet_muito_relevante and prob_tweet_relevante >prob_tweet_neutro and prob_tweet_relevante>prob_tweet_irrelevante and prob_tweet_relevante>prob_tweet_muito_irrelevante:\n",
    "        classificador = \"relevante\"\n",
    "\n",
    "    if prob_tweet_muito_relevante > prob_tweet_relevante and prob_tweet_muito_relevante >prob_tweet_neutro and prob_tweet_muito_relevante>prob_tweet_irrelevante and prob_tweet_muito_relevante>prob_tweet_muito_irrelevante:\n",
    "        classificador = \"muito relevante\"\n",
    "\n",
    "    if prob_tweet_neutro > prob_tweet_relevante and prob_tweet_neutro >prob_tweet_muito_relevante and prob_tweet_neutro >prob_tweet_irrelevante and prob_tweet_neutro >prob_tweet_muito_irrelevante:\n",
    "        classificador = \"neutro\"\n",
    "\n",
    "    if prob_tweet_irrelevante > prob_tweet_muito_relevante and prob_tweet_irrelevante >prob_tweet_neutro and prob_tweet_irrelevante >prob_tweet_relevante and prob_tweet_irrelevante >prob_tweet_muito_irrelevante:\n",
    "        classificador = \"irrelevante\"\n",
    "\n",
    "    if prob_tweet_muito_irrelevante > prob_tweet_relevante and prob_tweet_muito_irrelevante >prob_tweet_neutro and prob_tweet_muito_irrelevante >prob_tweet_irrelevante and prob_tweet_muito_irrelevante >prob_tweet_muito_relevante:\n",
    "        classificador = \"muito irrelevante\"\n",
    "\n",
    "    \n",
    "    dicionario[tweet] = (prob_tweet_relevante, prob_tweet_muito_relevante, prob_tweet_neutro, prob_tweet_irrelevante, prob_tweet_muito_irrelevante, classificador)\n",
    "    \n",
    "\n",
    "\n",
    "data_frame = pd.DataFrame.from_dict(data = dicionario, orient='index').reset_index()\n",
    "data_frame.columns = [\"Tweets\", \"Prob de ser relevante\", \"Prob de ser muito relevante\", \"Prob de ser neutro\", \"Prob de ser irrelevante\", \"Prob de ser muito irrelevante\", \"classificador\"]\n",
    "data_frame.head(10)\n",
    "\n"
   ]
  },
  {
   "cell_type": "code",
   "execution_count": 106,
   "metadata": {},
   "outputs": [
    {
     "data": {
      "text/html": [
       "<div>\n",
       "<style scoped>\n",
       "    .dataframe tbody tr th:only-of-type {\n",
       "        vertical-align: middle;\n",
       "    }\n",
       "\n",
       "    .dataframe tbody tr th {\n",
       "        vertical-align: top;\n",
       "    }\n",
       "\n",
       "    .dataframe thead th {\n",
       "        text-align: right;\n",
       "    }\n",
       "</style>\n",
       "<table border=\"1\" class=\"dataframe\">\n",
       "  <thead>\n",
       "    <tr style=\"text-align: right;\">\n",
       "      <th>classificador</th>\n",
       "      <th>muito irrelevante</th>\n",
       "      <th>muito relevante</th>\n",
       "      <th>neutro</th>\n",
       "      <th>relevante</th>\n",
       "    </tr>\n",
       "    <tr>\n",
       "      <th>relevancia</th>\n",
       "      <th></th>\n",
       "      <th></th>\n",
       "      <th></th>\n",
       "      <th></th>\n",
       "    </tr>\n",
       "  </thead>\n",
       "  <tbody>\n",
       "    <tr>\n",
       "      <th>muito irrelevante</th>\n",
       "      <td>5</td>\n",
       "      <td>0</td>\n",
       "      <td>301</td>\n",
       "      <td>4</td>\n",
       "    </tr>\n",
       "    <tr>\n",
       "      <th>irrelevante</th>\n",
       "      <td>1</td>\n",
       "      <td>0</td>\n",
       "      <td>112</td>\n",
       "      <td>5</td>\n",
       "    </tr>\n",
       "    <tr>\n",
       "      <th>neutro</th>\n",
       "      <td>0</td>\n",
       "      <td>0</td>\n",
       "      <td>150</td>\n",
       "      <td>0</td>\n",
       "    </tr>\n",
       "    <tr>\n",
       "      <th>relevante</th>\n",
       "      <td>0</td>\n",
       "      <td>1</td>\n",
       "      <td>42</td>\n",
       "      <td>62</td>\n",
       "    </tr>\n",
       "    <tr>\n",
       "      <th>muito relevante</th>\n",
       "      <td>0</td>\n",
       "      <td>36</td>\n",
       "      <td>34</td>\n",
       "      <td>3</td>\n",
       "    </tr>\n",
       "  </tbody>\n",
       "</table>\n",
       "</div>"
      ],
      "text/plain": [
       "classificador      muito irrelevante  muito relevante  neutro  relevante\n",
       "relevancia                                                              \n",
       "muito irrelevante                  5                0     301          4\n",
       "irrelevante                        1                0     112          5\n",
       "neutro                             0                0     150          0\n",
       "relevante                          0                1      42         62\n",
       "muito relevante                    0               36      34          3"
      ]
     },
     "execution_count": 106,
     "metadata": {},
     "output_type": "execute_result"
    }
   ],
   "source": [
    "verificacao = pd.crosstab(treinamento['relevancia'], data_frame['classificador'])\n",
    "verificacao"
   ]
  },
  {
   "cell_type": "code",
   "execution_count": 107,
   "metadata": {},
   "outputs": [
    {
     "data": {
      "text/plain": [
       "<matplotlib.axes._subplots.AxesSubplot at 0x7fbe544012d0>"
      ]
     },
     "execution_count": 107,
     "metadata": {},
     "output_type": "execute_result"
    },
    {
     "data": {
      "image/png": "[encoded data removed]",
      "text/plain": [
       "<Figure size 432x288 with 2 Axes>"
      ]
     },
     "metadata": {
      "needs_background": "light"
     },
     "output_type": "display_data"
    }
   ],
   "source": [
    "import seaborn as sns \n",
    "sns.heatmap(verificacao)"
   ]
  },
  {
   "cell_type": "markdown",
   "metadata": {},
   "source": [
    "___\n",
    "### Verificando a performance do Classificador\n",
    "\n",
    "Agora você deve testar o seu classificador com a base de Testes."
   ]
  },
  {
   "cell_type": "markdown",
   "metadata": {},
   "source": [
    "**Preparando a planilha Teste:**"
   ]
  },
  {
   "cell_type": "code",
   "execution_count": 108,
   "metadata": {},
   "outputs": [],
   "source": [
    "teste = pd.read_excel(file, sheet_name = 'Teste')\n",
    "teste['Tweets Teste'] = teste['Tweets Teste'].astype('str')\n",
    "teste['Tweets Teste'] = teste['Tweets Teste'].apply(cleanup).apply(espaco_entre_emoji)\n",
    "teste['Tweets Teste'] = teste['Tweets Teste'].str.lower()"
   ]
  },
  {
   "cell_type": "code",
   "execution_count": 109,
   "metadata": {},
   "outputs": [
    {
     "data": {
      "text/plain": [
       "0    210\n",
       "2     90\n",
       "3     88\n",
       "1     84\n",
       "4     30\n",
       "Name: relevancia, dtype: int64"
      ]
     },
     "execution_count": 109,
     "metadata": {},
     "output_type": "execute_result"
    }
   ],
   "source": [
    "teste['relevancia'].value_counts()"
   ]
  },
  {
   "cell_type": "code",
   "execution_count": 110,
   "metadata": {},
   "outputs": [
    {
     "data": {
      "text/plain": [
       "0                 neutro\n",
       "1                 neutro\n",
       "2            irrelevante\n",
       "3      muito irrelevante\n",
       "4            irrelevante\n",
       "             ...        \n",
       "497            relevante\n",
       "498    muito irrelevante\n",
       "499               neutro\n",
       "500            relevante\n",
       "501          irrelevante\n",
       "Name: relevancia, Length: 502, dtype: category\n",
       "Categories (5, object): [muito irrelevante < irrelevante < neutro < relevante < muito relevante]"
      ]
     },
     "execution_count": 110,
     "metadata": {},
     "output_type": "execute_result"
    }
   ],
   "source": [
    "teste['relevancia'] = teste['relevancia'].astype('category')\n",
    "teste['relevancia'].cat.categories = ['muito irrelevante', 'irrelevante', 'neutro', 'relevante', 'muito relevante']\n",
    "teste['relevancia'].cat.as_ordered()"
   ]
  },
  {
   "cell_type": "markdown",
   "metadata": {},
   "source": [
    "## Aplicando o classificador na planilha Teste:"
   ]
  },
  {
   "cell_type": "code",
   "execution_count": 111,
   "metadata": {},
   "outputs": [
    {
     "data": {
      "text/html": [
       "<div>\n",
       "<style scoped>\n",
       "    .dataframe tbody tr th:only-of-type {\n",
       "        vertical-align: middle;\n",
       "    }\n",
       "\n",
       "    .dataframe tbody tr th {\n",
       "        vertical-align: top;\n",
       "    }\n",
       "\n",
       "    .dataframe thead th {\n",
       "        text-align: right;\n",
       "    }\n",
       "</style>\n",
       "<table border=\"1\" class=\"dataframe\">\n",
       "  <thead>\n",
       "    <tr style=\"text-align: right;\">\n",
       "      <th></th>\n",
       "      <th>Tweets</th>\n",
       "      <th>Prob de ser relevante</th>\n",
       "      <th>Prob de ser muito relevante</th>\n",
       "      <th>Prob de ser neutro</th>\n",
       "      <th>Prob de ser irrelevante</th>\n",
       "      <th>Prob de ser muito irrelevante</th>\n",
       "      <th>classificador</th>\n",
       "    </tr>\n",
       "  </thead>\n",
       "  <tbody>\n",
       "    <tr>\n",
       "      <th>0</th>\n",
       "      <td>a heloa compro tanto redbull pra leva pra prai...</td>\n",
       "      <td>1.221278e-83</td>\n",
       "      <td>2.585063e-87</td>\n",
       "      <td>5.929365e-80</td>\n",
       "      <td>1.055375e-96</td>\n",
       "      <td>1.086385e-96</td>\n",
       "      <td>neutro</td>\n",
       "    </tr>\n",
       "    <tr>\n",
       "      <th>1</th>\n",
       "      <td>tem lugar que vende monster a preço de redbull 😔</td>\n",
       "      <td>1.044237e-42</td>\n",
       "      <td>8.734050e-44</td>\n",
       "      <td>1.394413e-41</td>\n",
       "      <td>1.270314e-51</td>\n",
       "      <td>2.038127e-51</td>\n",
       "      <td>neutro</td>\n",
       "    </tr>\n",
       "    <tr>\n",
       "      <th>2</th>\n",
       "      <td>você não falou ontem que iria se ausentarapare...</td>\n",
       "      <td>1.888645e-62</td>\n",
       "      <td>2.719435e-64</td>\n",
       "      <td>1.017023e-60</td>\n",
       "      <td>1.169853e-71</td>\n",
       "      <td>1.540948e-71</td>\n",
       "      <td>neutro</td>\n",
       "    </tr>\n",
       "    <tr>\n",
       "      <th>3</th>\n",
       "      <td>⚽ para amar ou odiar aqui tem uma lista com im...</td>\n",
       "      <td>3.733099e-160</td>\n",
       "      <td>5.647960e-164</td>\n",
       "      <td>1.315942e-155</td>\n",
       "      <td>7.590811e-177</td>\n",
       "      <td>3.549850e-177</td>\n",
       "      <td>neutro</td>\n",
       "    </tr>\n",
       "    <tr>\n",
       "      <th>4</th>\n",
       "      <td>tomei um anador só falta um redbull 😎</td>\n",
       "      <td>2.292209e-34</td>\n",
       "      <td>2.980724e-36</td>\n",
       "      <td>9.142753e-34</td>\n",
       "      <td>1.323734e-41</td>\n",
       "      <td>2.343975e-41</td>\n",
       "      <td>neutro</td>\n",
       "    </tr>\n",
       "    <tr>\n",
       "      <th>5</th>\n",
       "      <td>parabéns maya uma história de superação vc é u...</td>\n",
       "      <td>7.715047e-60</td>\n",
       "      <td>3.534626e-61</td>\n",
       "      <td>5.148677e-58</td>\n",
       "      <td>1.194198e-66</td>\n",
       "      <td>1.652528e-66</td>\n",
       "      <td>neutro</td>\n",
       "    </tr>\n",
       "    <tr>\n",
       "      <th>6</th>\n",
       "      <td>redbull é bom mesmo</td>\n",
       "      <td>4.223613e-17</td>\n",
       "      <td>9.466353e-17</td>\n",
       "      <td>4.575620e-17</td>\n",
       "      <td>1.437410e-21</td>\n",
       "      <td>3.100248e-21</td>\n",
       "      <td>muito relevante</td>\n",
       "    </tr>\n",
       "    <tr>\n",
       "      <th>7</th>\n",
       "      <td>são paulo só depende dele pra assumir a lidera...</td>\n",
       "      <td>7.276819e-103</td>\n",
       "      <td>2.483472e-104</td>\n",
       "      <td>1.510120e-100</td>\n",
       "      <td>9.921380e-112</td>\n",
       "      <td>8.808482e-112</td>\n",
       "      <td>neutro</td>\n",
       "    </tr>\n",
       "    <tr>\n",
       "      <th>8</th>\n",
       "      <td>eu até que gostava de monster mas depois de ví...</td>\n",
       "      <td>1.575417e-210</td>\n",
       "      <td>2.674352e-211</td>\n",
       "      <td>2.647311e-203</td>\n",
       "      <td>5.807701e-242</td>\n",
       "      <td>1.430602e-242</td>\n",
       "      <td>neutro</td>\n",
       "    </tr>\n",
       "    <tr>\n",
       "      <th>9</th>\n",
       "      <td>n consegui dormir a noite toda e ainda vou pra...</td>\n",
       "      <td>1.204011e-62</td>\n",
       "      <td>5.339982e-65</td>\n",
       "      <td>2.276896e-59</td>\n",
       "      <td>1.169853e-71</td>\n",
       "      <td>1.540948e-71</td>\n",
       "      <td>neutro</td>\n",
       "    </tr>\n",
       "  </tbody>\n",
       "</table>\n",
       "</div>"
      ],
      "text/plain": [
       "                                              Tweets  Prob de ser relevante  \\\n",
       "0  a heloa compro tanto redbull pra leva pra prai...           1.221278e-83   \n",
       "1   tem lugar que vende monster a preço de redbull 😔           1.044237e-42   \n",
       "2  você não falou ontem que iria se ausentarapare...           1.888645e-62   \n",
       "3  ⚽ para amar ou odiar aqui tem uma lista com im...          3.733099e-160   \n",
       "4              tomei um anador só falta um redbull 😎           2.292209e-34   \n",
       "5  parabéns maya uma história de superação vc é u...           7.715047e-60   \n",
       "6                                redbull é bom mesmo           4.223613e-17   \n",
       "7  são paulo só depende dele pra assumir a lidera...          7.276819e-103   \n",
       "8  eu até que gostava de monster mas depois de ví...          1.575417e-210   \n",
       "9  n consegui dormir a noite toda e ainda vou pra...           1.204011e-62   \n",
       "\n",
       "   Prob de ser muito relevante  Prob de ser neutro  Prob de ser irrelevante  \\\n",
       "0                 2.585063e-87        5.929365e-80             1.055375e-96   \n",
       "1                 8.734050e-44        1.394413e-41             1.270314e-51   \n",
       "2                 2.719435e-64        1.017023e-60             1.169853e-71   \n",
       "3                5.647960e-164       1.315942e-155            7.590811e-177   \n",
       "4                 2.980724e-36        9.142753e-34             1.323734e-41   \n",
       "5                 3.534626e-61        5.148677e-58             1.194198e-66   \n",
       "6                 9.466353e-17        4.575620e-17             1.437410e-21   \n",
       "7                2.483472e-104       1.510120e-100            9.921380e-112   \n",
       "8                2.674352e-211       2.647311e-203            5.807701e-242   \n",
       "9                 5.339982e-65        2.276896e-59             1.169853e-71   \n",
       "\n",
       "   Prob de ser muito irrelevante    classificador  \n",
       "0                   1.086385e-96           neutro  \n",
       "1                   2.038127e-51           neutro  \n",
       "2                   1.540948e-71           neutro  \n",
       "3                  3.549850e-177           neutro  \n",
       "4                   2.343975e-41           neutro  \n",
       "5                   1.652528e-66           neutro  \n",
       "6                   3.100248e-21  muito relevante  \n",
       "7                  8.808482e-112           neutro  \n",
       "8                  1.430602e-242           neutro  \n",
       "9                   1.540948e-71           neutro  "
      ]
     },
     "execution_count": 111,
     "metadata": {},
     "output_type": "execute_result"
    }
   ],
   "source": [
    "dicionario = {}\n",
    "classificador = []\n",
    "\n",
    "for i in range(len(teste)):\n",
    "    tweet = teste.iloc[i,0]\n",
    "    palavras_tweet = tweet.split()\n",
    "    \n",
    "    prob_tweet_relevante = 1\n",
    "    prob_tweet_muito_relevante=1\n",
    "    prob_tweet_neutro = 1\n",
    "    prob_tweet_irrelevante = 1\n",
    "    prob_tweet_muito_irrelevante =1\n",
    "    \n",
    "    for palavra in palavras_tweet:\n",
    "\n",
    "        if palavra in serie_relevantes:\n",
    "            prob_palavra_relevante = P_palavra_dado_relevante[palavra] \n",
    "            prob_tweet_relevante *= prob_palavra_relevante\n",
    "        \n",
    "        else:\n",
    "            prob_palavra_relevante = (alpha/total_relevante_alpha)\n",
    "            prob_tweet_relevante *= prob_palavra_relevante    \n",
    "            \n",
    "            \n",
    "        if palavra in serie_muito_relevantes:\n",
    "            prob_palavra_muito_relevante = P_palavra_dado_muito_relevante[palavra] \n",
    "            prob_tweet_muito_relevante *= prob_palavra_muito_relevante\n",
    "            \n",
    "        else:\n",
    "            prob_palavra_muito_relevante = (alpha/total_muito_relevante_alpha)\n",
    "            prob_tweet_muito_relevante *= prob_palavra_muito_relevante\n",
    "            \n",
    "        \n",
    "        if palavra in serie_neutro:\n",
    "            prob_palavra_neutra = P_palavra_dado_neutro[palavra] \n",
    "            prob_tweet_neutro *= prob_palavra_neutra\n",
    "            \n",
    "        else:\n",
    "            prob_palavra_neutra = (alpha/total_neutro_alpha)\n",
    "            prob_tweet_neutro *= prob_palavra_neutra\n",
    "            \n",
    "        \n",
    "        if palavra in serie_irrelevantes:\n",
    "            prob_palavra_irrelevante = (alpha/total_irrelevante_alpha)\n",
    "            prob_tweet_irrelevante *= prob_palavra_irrelevante \n",
    "            \n",
    "        else:\n",
    "            prob_palavra_irrelevante = (alpha/total_irrelevante_alpha)\n",
    "            prob_tweet_irrelevante *= prob_palavra_irrelevante\n",
    "        \n",
    "\n",
    "        if palavra in serie_muito_irrelevantes:\n",
    "            prob_palavra_muito_irrelevante = (alpha/total_muito_irrelevante_alpha)\n",
    "            prob_tweet_muito_irrelevante *= prob_palavra_muito_irrelevante  \n",
    "            \n",
    "        else:\n",
    "            prob_palavra_muito_irrelevante = (alpha/total_muito_irrelevante_alpha)\n",
    "            prob_tweet_muito_irrelevante *= prob_palavra_muito_irrelevante\n",
    "        \n",
    "\n",
    "    # cálculo com as prioris\n",
    "    prob_tweet_relevante *= P_R\n",
    "    prob_tweet_muito_relevante *= P_MR\n",
    "    prob_tweet_neutro *= P_N\n",
    "    prob_tweet_irrelevante *= P_I\n",
    "    prob_tweet_muito_irrelevante *= P_MI\n",
    "    \n",
    "    if prob_tweet_relevante > prob_tweet_muito_relevante and prob_tweet_relevante >prob_tweet_neutro and prob_tweet_relevante>prob_tweet_irrelevante and prob_tweet_relevante>prob_tweet_muito_irrelevante:\n",
    "        classificador = \"relevante\"\n",
    "\n",
    "    if prob_tweet_muito_relevante > prob_tweet_relevante and prob_tweet_muito_relevante >prob_tweet_neutro and prob_tweet_muito_relevante>prob_tweet_irrelevante and prob_tweet_muito_relevante>prob_tweet_muito_irrelevante:\n",
    "        classificador = \"muito relevante\"\n",
    "\n",
    "    if prob_tweet_neutro > prob_tweet_relevante and prob_tweet_neutro >prob_tweet_muito_relevante and prob_tweet_neutro >prob_tweet_irrelevante and prob_tweet_neutro >prob_tweet_muito_irrelevante:\n",
    "        classificador = \"neutro\"\n",
    "\n",
    "    if prob_tweet_irrelevante > prob_tweet_muito_relevante and prob_tweet_irrelevante >prob_tweet_neutro and prob_tweet_irrelevante >prob_tweet_relevante and prob_tweet_irrelevante >prob_tweet_muito_irrelevante:\n",
    "        classificador = \"irrelevante\"\n",
    "\n",
    "    if prob_tweet_muito_irrelevante > prob_tweet_relevante and prob_tweet_muito_irrelevante >prob_tweet_neutro and prob_tweet_muito_irrelevante >prob_tweet_irrelevante and prob_tweet_muito_irrelevante >prob_tweet_muito_relevante:\n",
    "        classificador = \"muito irrelevante\"\n",
    "\n",
    "    \n",
    "    dicionario[tweet] = (prob_tweet_relevante, prob_tweet_muito_relevante, prob_tweet_neutro, prob_tweet_irrelevante, prob_tweet_muito_irrelevante, classificador)\n",
    "    \n",
    "\n",
    "\n",
    "data_frame_teste = pd.DataFrame.from_dict(data = dicionario, orient='index').reset_index()\n",
    "data_frame_teste.columns = [\"Tweets\", \"Prob de ser relevante\", \"Prob de ser muito relevante\", \"Prob de ser neutro\", \"Prob de ser irrelevante\", \"Prob de ser muito irrelevante\", \"classificador\"]\n",
    "data_frame_teste.head(10)\n"
   ]
  },
  {
   "cell_type": "code",
   "execution_count": 112,
   "metadata": {},
   "outputs": [
    {
     "data": {
      "text/html": [
       "<div>\n",
       "<style scoped>\n",
       "    .dataframe tbody tr th:only-of-type {\n",
       "        vertical-align: middle;\n",
       "    }\n",
       "\n",
       "    .dataframe tbody tr th {\n",
       "        vertical-align: top;\n",
       "    }\n",
       "\n",
       "    .dataframe thead th {\n",
       "        text-align: right;\n",
       "    }\n",
       "</style>\n",
       "<table border=\"1\" class=\"dataframe\">\n",
       "  <thead>\n",
       "    <tr style=\"text-align: right;\">\n",
       "      <th>classificador</th>\n",
       "      <th>muito irrelevante</th>\n",
       "      <th>muito relevante</th>\n",
       "      <th>neutro</th>\n",
       "      <th>relevante</th>\n",
       "    </tr>\n",
       "    <tr>\n",
       "      <th>relevancia</th>\n",
       "      <th></th>\n",
       "      <th></th>\n",
       "      <th></th>\n",
       "      <th></th>\n",
       "    </tr>\n",
       "  </thead>\n",
       "  <tbody>\n",
       "    <tr>\n",
       "      <th>muito irrelevante</th>\n",
       "      <td>2</td>\n",
       "      <td>2</td>\n",
       "      <td>203</td>\n",
       "      <td>2</td>\n",
       "    </tr>\n",
       "    <tr>\n",
       "      <th>irrelevante</th>\n",
       "      <td>1</td>\n",
       "      <td>2</td>\n",
       "      <td>77</td>\n",
       "      <td>3</td>\n",
       "    </tr>\n",
       "    <tr>\n",
       "      <th>neutro</th>\n",
       "      <td>0</td>\n",
       "      <td>0</td>\n",
       "      <td>86</td>\n",
       "      <td>3</td>\n",
       "    </tr>\n",
       "    <tr>\n",
       "      <th>relevante</th>\n",
       "      <td>0</td>\n",
       "      <td>3</td>\n",
       "      <td>82</td>\n",
       "      <td>2</td>\n",
       "    </tr>\n",
       "    <tr>\n",
       "      <th>muito relevante</th>\n",
       "      <td>0</td>\n",
       "      <td>2</td>\n",
       "      <td>28</td>\n",
       "      <td>0</td>\n",
       "    </tr>\n",
       "  </tbody>\n",
       "</table>\n",
       "</div>"
      ],
      "text/plain": [
       "classificador      muito irrelevante  muito relevante  neutro  relevante\n",
       "relevancia                                                              \n",
       "muito irrelevante                  2                2     203          2\n",
       "irrelevante                        1                2      77          3\n",
       "neutro                             0                0      86          3\n",
       "relevante                          0                3      82          2\n",
       "muito relevante                    0                2      28          0"
      ]
     },
     "execution_count": 112,
     "metadata": {},
     "output_type": "execute_result"
    }
   ],
   "source": [
    "verificando_teste = pd.crosstab(teste['relevancia'], data_frame_teste['classificador'])\n",
    "verificando_teste"
   ]
  },
  {
   "cell_type": "code",
   "execution_count": 113,
   "metadata": {},
   "outputs": [
    {
     "data": {
      "text/html": [
       "<div>\n",
       "<style scoped>\n",
       "    .dataframe tbody tr th:only-of-type {\n",
       "        vertical-align: middle;\n",
       "    }\n",
       "\n",
       "    .dataframe tbody tr th {\n",
       "        vertical-align: top;\n",
       "    }\n",
       "\n",
       "    .dataframe thead th {\n",
       "        text-align: right;\n",
       "    }\n",
       "</style>\n",
       "<table border=\"1\" class=\"dataframe\">\n",
       "  <thead>\n",
       "    <tr style=\"text-align: right;\">\n",
       "      <th>classificador</th>\n",
       "      <th>muito irrelevante</th>\n",
       "      <th>muito relevante</th>\n",
       "      <th>neutro</th>\n",
       "      <th>relevante</th>\n",
       "    </tr>\n",
       "    <tr>\n",
       "      <th>relevancia</th>\n",
       "      <th></th>\n",
       "      <th></th>\n",
       "      <th></th>\n",
       "      <th></th>\n",
       "    </tr>\n",
       "  </thead>\n",
       "  <tbody>\n",
       "    <tr>\n",
       "      <th>muito irrelevante</th>\n",
       "      <td>0.004016</td>\n",
       "      <td>0.004016</td>\n",
       "      <td>0.407631</td>\n",
       "      <td>0.004016</td>\n",
       "    </tr>\n",
       "    <tr>\n",
       "      <th>irrelevante</th>\n",
       "      <td>0.002008</td>\n",
       "      <td>0.004016</td>\n",
       "      <td>0.154618</td>\n",
       "      <td>0.006024</td>\n",
       "    </tr>\n",
       "    <tr>\n",
       "      <th>neutro</th>\n",
       "      <td>0.000000</td>\n",
       "      <td>0.000000</td>\n",
       "      <td>0.172691</td>\n",
       "      <td>0.006024</td>\n",
       "    </tr>\n",
       "    <tr>\n",
       "      <th>relevante</th>\n",
       "      <td>0.000000</td>\n",
       "      <td>0.006024</td>\n",
       "      <td>0.164659</td>\n",
       "      <td>0.004016</td>\n",
       "    </tr>\n",
       "    <tr>\n",
       "      <th>muito relevante</th>\n",
       "      <td>0.000000</td>\n",
       "      <td>0.004016</td>\n",
       "      <td>0.056225</td>\n",
       "      <td>0.000000</td>\n",
       "    </tr>\n",
       "  </tbody>\n",
       "</table>\n",
       "</div>"
      ],
      "text/plain": [
       "classificador      muito irrelevante  muito relevante    neutro  relevante\n",
       "relevancia                                                                \n",
       "muito irrelevante           0.004016         0.004016  0.407631   0.004016\n",
       "irrelevante                 0.002008         0.004016  0.154618   0.006024\n",
       "neutro                      0.000000         0.000000  0.172691   0.006024\n",
       "relevante                   0.000000         0.006024  0.164659   0.004016\n",
       "muito relevante             0.000000         0.004016  0.056225   0.000000"
      ]
     },
     "execution_count": 113,
     "metadata": {},
     "output_type": "execute_result"
    }
   ],
   "source": [
    "verificando_2 = pd.crosstab(teste['relevancia'], data_frame_teste['classificador'], normalize='all')\n",
    "verificando_2"
   ]
  },
  {
   "cell_type": "markdown",
   "metadata": {},
   "source": [
    "## Cálculo da qualidade do classificador por categoria:\n"
   ]
  },
  {
   "cell_type": "markdown",
   "metadata": {},
   "source": [
    " * `Categoria relevante`:"
   ]
  },
  {
   "cell_type": "code",
   "execution_count": 114,
   "metadata": {},
   "outputs": [
    {
     "name": "stdout",
     "output_type": "stream",
     "text": [
      "porcentagem de verdadeiros positivos: 0.40161%\n",
      "porcentagem de falsos positivos: 17.068%\n"
     ]
    }
   ],
   "source": [
    "print(f'porcentagem de verdadeiros positivos: {(verificando_2.iloc[3,3])*100:.5g}%')\n",
    "print(f'porcentagem de falsos positivos: {(verificando_2.iloc[3,0]+verificando_2.iloc[3,1]+verificando_2.iloc[3,2])*100:.5g}%')"
   ]
  },
  {
   "cell_type": "markdown",
   "metadata": {},
   "source": [
    " * `Categoria muito relevante`:"
   ]
  },
  {
   "cell_type": "code",
   "execution_count": 115,
   "metadata": {},
   "outputs": [
    {
     "name": "stdout",
     "output_type": "stream",
     "text": [
      "porcentagem de verdadeiros positivos: 0.40161%\n",
      "porcentagem de falsos positivos: 5.6225%\n"
     ]
    }
   ],
   "source": [
    "print(f'porcentagem de verdadeiros positivos: {(verificando_2.iloc[4,1])*100:.5g}%')\n",
    "print(f'porcentagem de falsos positivos: {(verificando_2.iloc[4,0]+verificando_2.iloc[4,2]+verificando_2.iloc[4,3])*100:.5g}%')"
   ]
  },
  {
   "cell_type": "markdown",
   "metadata": {},
   "source": [
    "* `Categoria neutro`:"
   ]
  },
  {
   "cell_type": "code",
   "execution_count": 116,
   "metadata": {},
   "outputs": [
    {
     "name": "stdout",
     "output_type": "stream",
     "text": [
      "porcentagem de verdadeiros positivos: 17.269%\n",
      "porcentagem de falsos positivos: 0.60241%\n"
     ]
    }
   ],
   "source": [
    "print(f'porcentagem de verdadeiros positivos: {(verificando_2.iloc[2,2])*100:.5g}%')\n",
    "print(f'porcentagem de falsos positivos: {(verificando_2.iloc[2,0]+verificando_2.iloc[2,1]+verificando_2.iloc[2,3])*100:.5g}%')"
   ]
  },
  {
   "cell_type": "markdown",
   "metadata": {},
   "source": [
    " * `Categoria irrelevante`:"
   ]
  },
  {
   "cell_type": "code",
   "execution_count": 117,
   "metadata": {},
   "outputs": [
    {
     "name": "stdout",
     "output_type": "stream",
     "text": [
      "porcentagem de verdadeiros positivos: 0%\n",
      "porcentagem de falsos positivos: 16.667%\n"
     ]
    }
   ],
   "source": [
    "print(f'porcentagem de verdadeiros positivos: {(0)*100:.5g}%')\n",
    "print(f'porcentagem de falsos positivos: {(verificando_2.iloc[1,0]+verificando_2.iloc[1,1]+verificando_2.iloc[1,2]+verificando_2.iloc[1,3])*100:.5g}%')"
   ]
  },
  {
   "cell_type": "markdown",
   "metadata": {},
   "source": [
    " * `Categoria muito irrelevante`:"
   ]
  },
  {
   "cell_type": "code",
   "execution_count": 118,
   "metadata": {},
   "outputs": [
    {
     "name": "stdout",
     "output_type": "stream",
     "text": [
      "porcentagem de verdadeiros positivos: 0.40161%\n",
      "porcentagem de falsos positivos: 41.566%\n"
     ]
    }
   ],
   "source": [
    "print(f'porcentagem de verdadeiros positivos: {(verificando_2.iloc[0,0])*100:.5g}%')\n",
    "print(f'porcentagem de falsos positivos: {(verificando_2.iloc[0,1]+verificando_2.iloc[0,2]+verificando_2.iloc[0,3])*100:.5g}%')"
   ]
  },
  {
   "cell_type": "markdown",
   "metadata": {},
   "source": [
    "___\n",
    "### Concluindo"
   ]
  },
  {
   "cell_type": "markdown",
   "metadata": {},
   "source": [
    "**Cálculo da acurácia do classificador:**\n"
   ]
  },
  {
   "cell_type": "code",
   "execution_count": 119,
   "metadata": {},
   "outputs": [
    {
     "name": "stdout",
     "output_type": "stream",
     "text": [
      "a acurácia do classificador é de: 18.474%\n"
     ]
    }
   ],
   "source": [
    "#verificando_2.iloc[1,], que seria o irrelevante não esta aparecendo na nossa tabela, representamos ele no \n",
    "#cálculo da verificação como o zero no final\n",
    "print(f'a acurácia do classificador é de: {(verificando_2.iloc[0,0]+verificando_2.iloc[2,2]+verificando_2.iloc[3,3]+verificando_2.iloc[4,1]+0)*100:.5g}%')"
   ]
  },
  {
   "cell_type": "code",
   "execution_count": 120,
   "metadata": {},
   "outputs": [
    {
     "data": {
      "text/plain": [
       "<matplotlib.axes._subplots.AxesSubplot at 0x7fbe54400990>"
      ]
     },
     "execution_count": 120,
     "metadata": {},
     "output_type": "execute_result"
    },
    {
     "data": {
      "image/png": "[encoded data removed]",
      "text/plain": [
       "<Figure size 432x288 with 2 Axes>"
      ]
     },
     "metadata": {
      "needs_background": "light"
     },
     "output_type": "display_data"
    }
   ],
   "source": [
    "sns.heatmap(verificando_teste)"
   ]
  },
  {
   "cell_type": "markdown",
   "metadata": {},
   "source": [
    "##### Explicação (aperfeiçoamento):"
   ]
  },
  {
   "cell_type": "markdown",
   "metadata": {},
   "source": [
    "A acurácia do nosso classificador é de aproximadamente 20%, o que não é esperado, porém acreditamos que com uma base de dados melhor e mais ampla, isso mudaria.\n",
    "As mensagens de dupla negação e sarcasmo, foram separadas na parte de classificação manual do teste, na sua devida categoria, levando em consideração o sarcasmo. Se for utilizado o mesmo tipo de fase sarcastica em outro tweet, o classificador, aumentará a probabilidade deste tweet ser da determinada categoria que a sinalizamos no excel. Portanto, isso pode acabar nos prejudicando em certos casos, ou nos ajudando, depende muito se é uma frase sarcastica mais \"comum\", ou não, sendo que neste caso, a probabilidade tenderá a outra categoria. Porém caso este projeto tenha uma base de dados melhor e mais balanciada, não tendendo mais a uma categoria específica, isso deixaria nosso classificador muito melhor e faria com que fosse um ótimo classificador, já que existem muitos tweets irrelevantes sobre o produto 'redbull' e ao filtar os relevantes, isso ajudaria a perceber as suas melhores características e as piores, assim com essa informação, seria muito mais facil de perceber o que os clientes querem que fique ou que mude do produto em si.  "
   ]
  },
  {
   "cell_type": "markdown",
   "metadata": {},
   "source": [
    "Fora do contexto do Projeto, o Naive Bayes poderia ser usado na área de finanças, especialmente na detecção fraudes, ou seja, ele seria capaz de identificar se uma transação financeira é “duvidosa” ou “legal”. Além disso ele poderia ser usado também para classificar um cliente específico como sendo de “alto”, “médio” ou “baixo” risco para se conceber um crédito bancário. "
   ]
  },
  {
   "cell_type": "markdown",
   "metadata": {},
   "source": [
    "Para uma melhor acurácia do classificador poderiamos ter levado em conta outros tipos de limpeza dos dados, como por exemplo verificar a ortografia dos tweets."
   ]
  },
  {
   "cell_type": "markdown",
   "metadata": {},
   "source": [
    "Não podemos usar nosso classificador para gerar mais amostras de treinamento, pois como ele não está 100% correto, as amostras em sua maioria poderiam sair erradas, podendo haver informações equivocadas que atrapalhariam ainda mais a acurácia do classificador. "
   ]
  },
  {
   "cell_type": "markdown",
   "metadata": {},
   "source": [
    "___\n",
    "## Aperfeiçoamento:\n",
    "\n",
    "Os trabalhos vão evoluir em conceito dependendo da quantidade de itens avançados:\n",
    "\n",
    "* Limpar: \\n, :, \", ', (, ), etc SEM remover emojis\n",
    "* Corrigir separação de espaços entre palavras e emojis ou entre emojis e emojis\n",
    "* Propor outras limpezas e transformações que não afetem a qualidade da informação ou classificação\n",
    "* Criar categorias intermediárias de relevância baseadas na probabilidade: ex.: muito relevante, relevante, neutro, irrelevante, muito irrelevante (3 categorias: C, mais categorias conta para B)\n",
    "* Explicar por que não posso usar o próprio classificador para gerar mais amostras de treinamento\n",
    "* Propor diferentes cenários para Naïve Bayes fora do contexto do projeto\n",
    "* Sugerir e explicar melhorias reais com indicações concretas de como implementar (indicar como fazer e indicar material de pesquisa)\n",
    "* Montar um dashboard que realiza análise de sentimento e visualiza estes dados"
   ]
  },
  {
   "cell_type": "markdown",
   "metadata": {},
   "source": [
    "___\n",
    "## Referências"
   ]
  },
  {
   "cell_type": "markdown",
   "metadata": {},
   "source": [
    "[Naive Bayes and Text Classification](https://arxiv.org/pdf/1410.5329.pdf)  **Mais completo**\n",
    "\n",
    "[A practical explanation of a Naive Bayes Classifier](https://monkeylearn.com/blog/practical-explanation-naive-bayes-classifier/) **Mais simples**"
   ]
  },
  {
   "cell_type": "markdown",
   "metadata": {},
   "source": [
    "para a função cleanup usamos o código referente a esse site, porém mudamos os nomes das variáveis presentes nele: https://stackoverflow.com/questions/49921720/how-to-split-emoji-from-each-other-python"
   ]
  },
  {
   "cell_type": "code",
   "execution_count": null,
   "metadata": {},
   "outputs": [],
   "source": []
  }
 ],
 "metadata": {
  "kernelspec": {
   "display_name": "Python 3",
   "language": "python",
   "name": "python3"
  },
  "language_info": {
   "codemirror_mode": {
    "name": "ipython",
    "version": 3
   },
   "file_extension": ".py",
   "mimetype": "text/x-python",
   "name": "python",
   "nbconvert_exporter": "python",
   "pygments_lexer": "ipython3",
   "version": "3.7.4"
  }
 },
 "nbformat": 4,
 "nbformat_minor": 4
}
